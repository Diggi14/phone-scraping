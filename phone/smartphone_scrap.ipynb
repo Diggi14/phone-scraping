{
 "cells": [
  {
   "cell_type": "code",
   "execution_count": 1,
   "id": "2055beec",
   "metadata": {},
   "outputs": [],
   "source": [
    "from selenium.webdriver.common.by import By\n",
    "from selenium import webdriver\n",
    "from selenium.webdriver.chrome.service import Service\n",
    "from selenium.webdriver.chrome.options import Options\n",
    "from selenium.webdriver.common.keys import Keys\n",
    "import time"
   ]
  },
  {
   "cell_type": "code",
   "execution_count": 43,
   "id": "7b2eb68c",
   "metadata": {},
   "outputs": [],
   "source": [
    "chrome_path=\"C:/Users/shash/Desktop/chromedriver-win64/chromedriver-win64/chromedriver.exe\"\n",
    "service=Service(chrome_path)\n",
    "driver=webdriver.Chrome(service=service)\n",
    "driver.get(\"https://www.smartprix.com/mobiles\")\n",
    "time.sleep(2)\n",
    "driver.find_element(by=By.XPATH,value='//*[@id=\"app\"]/main/aside/div/div[5]/div[2]/label[1]').click()\n",
    "time.sleep(1)\n",
    "driver.find_element(by=By.XPATH,value='//*[@id=\"app\"]/main/aside/div/div[5]/div[2]/label[2]').click()\n",
    "time.sleep(1)\n",
    "driver.find_element(by=By.XPATH,value='//*[@id=\"app\"]/main/aside/div/div[6]/div[2]/label[1]').click()\n",
    "time.sleep(1)\n",
    "driver.find_element(by=By.XPATH,value='//*[@id=\"app\"]/main/aside/div/div[6]/div[2]/label[3]').click()\n",
    "time.sleep(1)\n",
    "old_height=driver.execute_script('return document.body.scrollHeight')\n",
    "while True:\n",
    "    driver.find_element(by=By.XPATH,value='//*[@id=\"app\"]/main/div[1]/div[2]/div[3]').click()\n",
    "    time.sleep(1)\n",
    "    new_height=driver.execute_script('return document.body.scrollHeight')\n",
    "    if new_height==old_height:\n",
    "        break\n",
    "    old_height=new_height\n",
    "html=driver.page_source"
   ]
  },
  {
   "cell_type": "code",
   "execution_count": null,
   "id": "266f2c70",
   "metadata": {},
   "outputs": [],
   "source": [
    "with open('phone.html','w',encoding='utf-8') as f:\n",
    "    f.write(html)"
   ]
  },
  {
   "cell_type": "code",
   "execution_count": 2,
   "id": "7055a5e5",
   "metadata": {},
   "outputs": [],
   "source": [
    "from bs4 import BeautifulSoup\n",
    "import pandas as pd\n",
    "import numpy as np"
   ]
  },
  {
   "cell_type": "code",
   "execution_count": null,
   "id": "5a5d0702",
   "metadata": {},
   "outputs": [],
   "source": [
    "with open('phone.html','r',encoding='utf-8') as f:\n",
    "    phone=f.read()"
   ]
  },
  {
   "cell_type": "code",
   "execution_count": 4,
   "id": "6f9d00bb",
   "metadata": {},
   "outputs": [],
   "source": [
    "soup=BeautifulSoup(phone,'lxml')"
   ]
  },
  {
   "cell_type": "code",
   "execution_count": 5,
   "id": "26f65e7b",
   "metadata": {},
   "outputs": [],
   "source": [
    "phones=soup.find_all('div',class_='sm-product has-tag has-features has-actions')"
   ]
  },
  {
   "cell_type": "code",
   "execution_count": null,
   "id": "1ec28793",
   "metadata": {},
   "outputs": [],
   "source": [
    "name=[]\n",
    "price=[]\n",
    "spec_score=[]\n",
    "rating=[]\n",
    "network=[]\n",
    "processor=[]\n",
    "memory=[]\n",
    "battery=[]\n",
    "display=[]\n",
    "camera=[]\n",
    "memory_card=[]\n",
    "android=[]\n",
    "for ph in phones:\n",
    "    name.append(ph.find('h2').text)\n",
    "    price.append(ph.find('span',class_='price').text)\n",
    "    spec_score.append(ph.find('b').text)\n",
    "    rating.append(ph.find('span',class_='sm-rating')['style'])\n",
    "    features=ph.find_all('li')\n",
    "    try:\n",
    "        network.append(features[0].text)\n",
    "    except:\n",
    "        network.append(np.nan)\n",
    "    try:\n",
    "        processor.append(features[1].text)\n",
    "    except:\n",
    "        processor.append(np.nan)\n",
    "    try:\n",
    "        memory.append(features[2].text)\n",
    "    except:\n",
    "        memory.append(np.nan)\n",
    "    try:\n",
    "        battery.append(features[3].text)\n",
    "    except:\n",
    "        battery.append(np.nan)\n",
    "    try:\n",
    "        display.append(features[4].text)\n",
    "    except:\n",
    "        display.append(np.nan)\n",
    "    try:\n",
    "        camera.append(features[5].text)\n",
    "    except:\n",
    "        camera.append(np.nan)\n",
    "    try:\n",
    "        memory_card.append(features[6].text)\n",
    "    except:\n",
    "        memory_card.append(np.nan)\n",
    "    try:\n",
    "        android.append(features[7].text)\n",
    "    except:\n",
    "        android.append(np.nan)"
   ]
  },
  {
   "cell_type": "code",
   "execution_count": 49,
   "id": "c67f01b5",
   "metadata": {},
   "outputs": [],
   "source": [
    "df=pd.DataFrame({'model':name,\n",
    "'price':price,\n",
    "\"Spec-score\":spec_score,\n",
    "'Rating':rating,\n",
    "'Network':network,\n",
    "'processor':processor,\n",
    "'memory':memory,\n",
    "'battery':battery,\n",
    "'display':display,\n",
    "'camera':camera,\n",
    "'memory_card':memory_card,\n",
    "'android_version':android})"
   ]
  },
  {
   "cell_type": "code",
   "execution_count": 57,
   "id": "9015e9df",
   "metadata": {},
   "outputs": [],
   "source": [
    "df.to_csv('phone\\phones_unclean.csv')"
   ]
  },
  {
   "cell_type": "code",
   "execution_count": null,
   "id": "16b14cea",
   "metadata": {},
   "outputs": [],
   "source": []
  }
 ],
 "metadata": {
  "kernelspec": {
   "display_name": "Python 3",
   "language": "python",
   "name": "python3"
  },
  "language_info": {
   "codemirror_mode": {
    "name": "ipython",
    "version": 3
   },
   "file_extension": ".py",
   "mimetype": "text/x-python",
   "name": "python",
   "nbconvert_exporter": "python",
   "pygments_lexer": "ipython3",
   "version": "3.11.9"
  }
 },
 "nbformat": 4,
 "nbformat_minor": 5
}
